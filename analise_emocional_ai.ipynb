{
 "cells": [
  {
   "cell_type": "markdown",
   "id": "0ae4577e",
   "metadata": {},
   "source": [
    "## Exercício LangChain e Gemini - ALURA\n",
    "\n",
    "- Exercício proposto pro curso de langChain e python - ALURA - Cração dde cadeia simples: \n",
    "- Emoções (Roda das Emoções de Plutchik)\n",
    "- Distorções cognitivas\n",
    "- Cartões de enfrentamento\n",
    "\n",
    "- No exercício envolvi assuntos de interesse pessoal e tive por objetivo usar o conceito de Simple Sequencial Chain para analisar o conteúdo emocional e distorções cognitivas de um trecho da crônica \"Se eu fosse eu\" de Clarice Lispector e a partir da análise propor cartões de enfrentamento para pensamentos disfuncionais.   "
   ]
  },
  {
   "cell_type": "markdown",
   "id": "c1c1f9f7",
   "metadata": {},
   "source": [
    "### Imports"
   ]
  },
  {
   "cell_type": "code",
   "execution_count": 1,
   "id": "1184eb40",
   "metadata": {},
   "outputs": [],
   "source": [
    "import os\n",
    "from dotenv import load_dotenv\n",
    "from langchain_google_genai import ChatGoogleGenerativeAI\n",
    "from langchain.prompts import ChatPromptTemplate\n",
    "from langchain.chains import LLMChain, SimpleSequentialChain"
   ]
  },
  {
   "cell_type": "markdown",
   "id": "84e5e3cf",
   "metadata": {},
   "source": [
    "### Carregamento da Chave API -> Utilização do Gemini "
   ]
  },
  {
   "cell_type": "code",
   "execution_count": 2,
   "id": "9652ee08",
   "metadata": {},
   "outputs": [],
   "source": [
    "load_dotenv()\n",
    "api_key = os.getenv(\"GEMINI_API_KEY\")"
   ]
  },
  {
   "cell_type": "markdown",
   "id": "b3ae3556",
   "metadata": {},
   "source": [
    "### Instancia da LLM"
   ]
  },
  {
   "cell_type": "code",
   "execution_count": 3,
   "id": "858c2abc",
   "metadata": {},
   "outputs": [],
   "source": [
    "llm = ChatGoogleGenerativeAI(\n",
    "    model=\"gemini-1.5-flash\",\n",
    "    temperature=0.7,\n",
    "    google_api_key=api_key\n",
    ")"
   ]
  },
  {
   "cell_type": "markdown",
   "id": "af835f2e",
   "metadata": {},
   "source": [
    "### Definição dos templates de prompts"
   ]
  },
  {
   "cell_type": "code",
   "execution_count": 4,
   "id": "7d3b749e",
   "metadata": {},
   "outputs": [],
   "source": [
    "modelo_emocoes = ChatPromptTemplate.from_template(\n",
    "    \"Identifique as emoções presentes na seguinte texto conforme a teoria da roda das emoções. texto: {texto}\"\n",
    ")\n",
    "\n",
    "modelo_distorcoes_cognitivas = ChatPromptTemplate.from_template(\n",
    "    \"Identifique as distorções cognitivas a seguinte analise emocional: {emoções}\"\n",
    ")\n",
    "\n",
    "modelo_pensamentos_automaticos = ChatPromptTemplate.from_template(\n",
    "    \"Sugira pensamentos saudáveis de enfrentamento dadas as seguintes distorções cognitivas: {distorções}. Vc deve montar um esquema tipo cartões de enfrentamento, estilo distorção -> pensamento saudável\"\n",
    ")\n"
   ]
  },
  {
   "cell_type": "markdown",
   "id": "e93df6e4",
   "metadata": {},
   "source": [
    "### Criação das Cadeias"
   ]
  },
  {
   "cell_type": "code",
   "execution_count": 5,
   "id": "474051dd",
   "metadata": {},
   "outputs": [
    {
     "name": "stderr",
     "output_type": "stream",
     "text": [
      "C:\\Users\\syann\\AppData\\Local\\Temp\\ipykernel_16980\\1255668256.py:1: LangChainDeprecationWarning: The class `LLMChain` was deprecated in LangChain 0.1.17 and will be removed in 1.0. Use :meth:`~RunnableSequence, e.g., `prompt | llm`` instead.\n",
      "  cadeia_emocoes = LLMChain(\n"
     ]
    }
   ],
   "source": [
    "cadeia_emocoes = LLMChain(\n",
    "    llm=llm,\n",
    "    prompt=modelo_emocoes\n",
    ")\n",
    "cadeia_distorcoes = LLMChain(\n",
    "    llm=llm,\n",
    "    prompt=modelo_distorcoes_cognitivas\n",
    ")\n",
    "\n",
    "cadeia_pensamentos = LLMChain(\n",
    "    llm=llm,\n",
    "    prompt=modelo_pensamentos_automaticos\n",
    ")\n",
    "\n",
    "# criação de uma sequência de cadeias -  simple sequential chain\n",
    "# usa a saída de uma cadeia como entrada da próxima\n",
    "# a saída da cadeia_emocoes é a entrada da cadeia_distorcoes, e assim por diante\n",
    "\n",
    "cadeia = SimpleSequentialChain(\n",
    "    chains=[cadeia_emocoes, cadeia_distorcoes, cadeia_pensamentos],\n",
    "    verbose=True # pra ter detalhes da execução passo a passo no terminal\n",
    ")\n"
   ]
  },
  {
   "cell_type": "markdown",
   "id": "e60f7c71",
   "metadata": {},
   "source": [
    "### Execução da Cadeia "
   ]
  },
  {
   "cell_type": "code",
   "execution_count": 6,
   "id": "d0164311",
   "metadata": {},
   "outputs": [
    {
     "name": "stdout",
     "output_type": "stream",
     "text": [
      "\n",
      "\n",
      "\u001b[1m> Entering new SimpleSequentialChain chain...\u001b[0m\n",
      "\u001b[36;1m\u001b[1;3mO texto expressa principalmente **constrangimento** e **medo**, com nuances de **tristeza** e possivelmente **insegurança**. Vamos analisar pela Roda das Emoções de Plutchik:\n",
      "\n",
      "* **Constrangimento:**  A frase \"E não me sinto bem\" e a descrição da mentira levemente deslocada apontam diretamente para uma sensação de desconforto e vergonha, características do constrangimento.  A mentira, provavelmente sobre a própria identidade ou comportamento, gera um sentimento de exposição e vulnerabilidade.\n",
      "\n",
      "* **Medo:** A ideia de que \"os amigos não me cumprimentariam na rua porque até minha fisionomia teria mudado\" revela um medo profundo de rejeição e isolamento social caso a pessoa se mostrasse como realmente é.  A incerteza (\"Como? Não sei.\") sobre como seria essa mudança física reforça esse medo do desconhecido.\n",
      "\n",
      "* **Tristeza:** A frase inicial \"E não me sinto bem\" sugere um estado de mal-estar geral que pode ser interpretado como tristeza, uma sensação de insatisfação com a própria vida e situação. A sensação de estar vivendo uma mentira também contribui para essa tristeza.\n",
      "\n",
      "* **Insegurança (possível):** A dúvida sobre como seria a sua verdadeira identidade (\"Como? Não sei.\") e a antecipação da possível rejeição demonstram insegurança em relação a si mesmo e à sua capacidade de ser aceito pelos outros.  A insegurança é frequentemente um componente do medo e da tristeza.\n",
      "\n",
      "\n",
      "É importante notar que a intensidade dessas emoções não é explicitamente declarada e pode variar de acordo com a interpretação.  A roda das emoções permite visualizar a complexidade das emoções, mostrando como elas podem se sobrepor e se influenciar mutuamente.  Neste caso, o constrangimento e o medo parecem ser as emoções mais proeminentes, com a tristeza e a insegurança como componentes importantes do estado emocional descrito.\u001b[0m\n",
      "\u001b[33;1m\u001b[1;3mA análise identifica corretamente várias emoções e sua interconexão.  No entanto, não explicita as *distorções cognitivas* presentes.  Para identificar essas distorções, precisamos ir além da simples identificação das emoções e analisar os *pensamentos* subjacentes que estão *causando* essas emoções.  A análise sugere algumas distorções implícitas, que podemos explicitar:\n",
      "\n",
      "* **Pensamento catastrófico:** A crença de que a descoberta da \"verdadeira identidade\" levará inevitavelmente à rejeição completa (\"os amigos não me cumprimentariam na rua\") é um exemplo claro de pensamento catastrófico.  Está-se prevendo o pior cenário possível sem considerar outras possibilidades.\n",
      "\n",
      "* **Pessoalização:** A pessoa assume que a rejeição seria exclusivamente por causa dela (\"até minha fisionomia teria mudado\"), ignorando outros fatores que poderiam influenciar as reações dos amigos.  Está atribuindo a responsabilidade pela reação dos outros inteiramente a si mesma.\n",
      "\n",
      "* **Leitura de pensamento:** A pessoa assume o que os amigos pensariam e fariam (\"os amigos não me cumprimentariam\"), sem ter evidência direta disso.  Ela está \"lendo a mente\" dos amigos, presumindo seus pensamentos e ações sem confirmação.\n",
      "\n",
      "* **Generalização excessiva:** A experiência potencial de rejeição é generalizada para todas as relações sociais futuras.  A possibilidade de que *alguns* amigos possam rejeitá-la é expandida para a conclusão de que *todos* o fariam.\n",
      "\n",
      "* **Filtro mental:** A pessoa se concentra exclusivamente nos aspectos negativos da situação (rejeição, constrangimento) e ignora quaisquer potenciais aspectos positivos ou neutros.\n",
      "\n",
      "\n",
      "Em resumo, enquanto a análise identifica bem as emoções, a chave para identificar as distorções cognitivas está em analisar os *pensamentos* subjacentes:  o pensamento catastrófico sobre a rejeição, a pessoalização da responsabilidade, a leitura de pensamento dos amigos, a generalização excessiva da rejeição e o filtro mental que foca apenas nos aspectos negativos.  Essas distorções cognitivas são as que estão *gerando* as emoções de constrangimento, medo, tristeza e insegurança.\u001b[0m\n",
      "\u001b[38;5;200m\u001b[1;3m## Cartões de Enfrentamento para Distorções Cognitivas\n",
      "\n",
      "Aqui estão alguns cartões de enfrentamento, no estilo \"distorção -> pensamento saudável\", para lidar com as distorções cognitivas identificadas:\n",
      "\n",
      "\n",
      "**Cartão 1: Pensamento Catastrófico**\n",
      "\n",
      "* **Distorção:** \"A descoberta da minha verdadeira identidade levará inevitavelmente à rejeição completa. Meus amigos não me cumprimentariam na rua.\"\n",
      "\n",
      "* **Pensamento Saudável:** \"É possível que algumas pessoas reajam mal à minha verdadeira identidade, mas isso não significa que *todos* irão me rejeitar.  É mais provável que algumas pessoas me apoiem, outras sejam indiferentes e algumas possam ter uma reação negativa inicial, mas que podem mudar com o tempo e com diálogo.  Prever o pior não é realista.  Vou lidar com cada situação individualmente conforme ela surgir.\"\n",
      "\n",
      "\n",
      "**Cartão 2: Pessoalização**\n",
      "\n",
      "* **Distorção:** \"Até minha fisionomia teria mudado, e é por isso que eles me rejeitariam.\"\n",
      "\n",
      "* **Pensamento Saudável:** \"A reação dos outros é influenciada por muitos fatores, além de mim.  Suas reações podem refletir suas próprias inseguranças, crenças ou experiências de vida.  Não posso controlar como os outros reagem, mas posso controlar minha resposta e minha auto-estima.\"\n",
      "\n",
      "\n",
      "**Cartão 3: Leitura de Pensamento**\n",
      "\n",
      "* **Distorção:** \"Os amigos não me cumprimentariam.\"\n",
      "\n",
      "* **Pensamento Saudável:** \"Eu não sei o que meus amigos pensariam ou fariam.  Estou assumindo que sei o que eles pensam, e isso não é verdade.  A única maneira de saber é comunicar-me abertamente com eles.  Posso estar interpretando mal os sinais.\"\n",
      "\n",
      "\n",
      "**Cartão 4: Generalização Excessiva**\n",
      "\n",
      "* **Distorção:** \"Se alguns amigos me rejeitarem, todos irão me rejeitar.\"\n",
      "\n",
      "* **Pensamento Saudável:** \"A experiência com alguns amigos não define como *todos* irão reagir.  Tenho outros relacionamentos e posso encontrar pessoas que me aceitem e apoiem. Uma experiência negativa não precisa definir minha vida social.\"\n",
      "\n",
      "\n",
      "**Cartão 5: Filtro Mental**\n",
      "\n",
      "* **Distorção:** \"Estou focando apenas na rejeição e no constrangimento.\"\n",
      "\n",
      "* **Pensamento Saudável:** \"Estou me concentrando nos aspectos negativos, mas também existem aspectos positivos e neutros a serem considerados.  Quais são os aspectos positivos da minha vida e dos meus relacionamentos?  Qual é a probabilidade de os resultados positivos acontecerem?  Manter um balanço entre o positivo e o negativo me ajuda a ter uma visão mais realista.\"\n",
      "\n",
      "\n",
      "**Instruções para o Uso dos Cartões:**\n",
      "\n",
      "Quando você perceber que está tendo pensamentos negativos, escolha o cartão que melhor descreve a distorção cognitiva que está acontecendo. Leia o pensamento saudável em voz alta e repita-o várias vezes.  Concentre-se em substituir o pensamento distorcido pelo pensamento saudável e mais realista.  Pratique regularmente para fortalecer suas habilidades de enfrentamento.\u001b[0m\n",
      "\n",
      "\u001b[1m> Finished chain.\u001b[0m\n",
      "{'input': 'E não me sinto bem. Experimente: se você fosse você, como seria e o que faria? \\nLogo de início se sente um constrangimento: a mentira em que nos acomodamos acabou de ser \\nlevemente locomovida do lugar onde se acomodara. No entanto já li biografias de pessoas que \\nde repente passavam a ser elas mesmas, e mudavam inteiramente de vida. Acho que se eu fosse \\nrealmente eu, os amigos não me cumprimentariam na rua porque até minha fisionomia teria mudado. Como? Não sei.', 'output': '## Cartões de Enfrentamento para Distorções Cognitivas\\n\\nAqui estão alguns cartões de enfrentamento, no estilo \"distorção -> pensamento saudável\", para lidar com as distorções cognitivas identificadas:\\n\\n\\n**Cartão 1: Pensamento Catastrófico**\\n\\n* **Distorção:** \"A descoberta da minha verdadeira identidade levará inevitavelmente à rejeição completa. Meus amigos não me cumprimentariam na rua.\"\\n\\n* **Pensamento Saudável:** \"É possível que algumas pessoas reajam mal à minha verdadeira identidade, mas isso não significa que *todos* irão me rejeitar.  É mais provável que algumas pessoas me apoiem, outras sejam indiferentes e algumas possam ter uma reação negativa inicial, mas que podem mudar com o tempo e com diálogo.  Prever o pior não é realista.  Vou lidar com cada situação individualmente conforme ela surgir.\"\\n\\n\\n**Cartão 2: Pessoalização**\\n\\n* **Distorção:** \"Até minha fisionomia teria mudado, e é por isso que eles me rejeitariam.\"\\n\\n* **Pensamento Saudável:** \"A reação dos outros é influenciada por muitos fatores, além de mim.  Suas reações podem refletir suas próprias inseguranças, crenças ou experiências de vida.  Não posso controlar como os outros reagem, mas posso controlar minha resposta e minha auto-estima.\"\\n\\n\\n**Cartão 3: Leitura de Pensamento**\\n\\n* **Distorção:** \"Os amigos não me cumprimentariam.\"\\n\\n* **Pensamento Saudável:** \"Eu não sei o que meus amigos pensariam ou fariam.  Estou assumindo que sei o que eles pensam, e isso não é verdade.  A única maneira de saber é comunicar-me abertamente com eles.  Posso estar interpretando mal os sinais.\"\\n\\n\\n**Cartão 4: Generalização Excessiva**\\n\\n* **Distorção:** \"Se alguns amigos me rejeitarem, todos irão me rejeitar.\"\\n\\n* **Pensamento Saudável:** \"A experiência com alguns amigos não define como *todos* irão reagir.  Tenho outros relacionamentos e posso encontrar pessoas que me aceitem e apoiem. Uma experiência negativa não precisa definir minha vida social.\"\\n\\n\\n**Cartão 5: Filtro Mental**\\n\\n* **Distorção:** \"Estou focando apenas na rejeição e no constrangimento.\"\\n\\n* **Pensamento Saudável:** \"Estou me concentrando nos aspectos negativos, mas também existem aspectos positivos e neutros a serem considerados.  Quais são os aspectos positivos da minha vida e dos meus relacionamentos?  Qual é a probabilidade de os resultados positivos acontecerem?  Manter um balanço entre o positivo e o negativo me ajuda a ter uma visão mais realista.\"\\n\\n\\n**Instruções para o Uso dos Cartões:**\\n\\nQuando você perceber que está tendo pensamentos negativos, escolha o cartão que melhor descreve a distorção cognitiva que está acontecendo. Leia o pensamento saudável em voz alta e repita-o várias vezes.  Concentre-se em substituir o pensamento distorcido pelo pensamento saudável e mais realista.  Pratique regularmente para fortalecer suas habilidades de enfrentamento.'}\n"
     ]
    }
   ],
   "source": [
    "texto = \"\"\"E não me sinto bem. Experimente: se você fosse você, como seria e o que faria? \n",
    "Logo de início se sente um constrangimento: a mentira em que nos acomodamos acabou de ser \n",
    "levemente locomovida do lugar onde se acomodara. No entanto já li biografias de pessoas que \n",
    "de repente passavam a ser elas mesmas, e mudavam inteiramente de vida. Acho que se eu fosse \n",
    "realmente eu, os amigos não me cumprimentariam na rua porque até minha fisionomia teria mudado. Como? Não sei.\"\"\"\n",
    "\n",
    "resultado = cadeia.invoke(texto)\n",
    "print(resultado)\n"
   ]
  },
  {
   "cell_type": "markdown",
   "id": "99e61266",
   "metadata": {},
   "source": [
    "### Utilização de Parser\n",
    "\n",
    "Proposta:\n",
    "- Analisar emoções e retornar uma estrutura com a lista de emoções e a justificativa das emoções\n",
    "- analisar sentimentos relacionados com as emoções detectadas anteriormente\n"
   ]
  },
  {
   "cell_type": "code",
   "execution_count": 7,
   "id": "ae313d0b",
   "metadata": {},
   "outputs": [
    {
     "name": "stderr",
     "output_type": "stream",
     "text": [
      "c:\\Users\\syann\\Downloads\\Códigos\\Estudos_langChain_Alura\\langchain\\Lib\\site-packages\\IPython\\core\\interactiveshell.py:3672: LangChainDeprecationWarning: As of langchain-core 0.3.0, LangChain uses pydantic v2 internally. The langchain_core.pydantic_v1 module was a compatibility shim for pydantic v1, and should no longer be used. Please update the code to import from Pydantic directly.\n",
      "\n",
      "For example, replace imports like: `from langchain_core.pydantic_v1 import BaseModel`\n",
      "with: `from pydantic import BaseModel`\n",
      "or the v1 compatibility namespace if you are working in a code base that has not been fully upgraded to pydantic 2 yet. \tfrom pydantic.v1 import BaseModel\n",
      "\n",
      "  exec(code_obj, self.user_global_ns, self.user_ns)\n"
     ]
    },
    {
     "name": "stdout",
     "output_type": "stream",
     "text": [
      "\n",
      "\n",
      "\u001b[1m> Entering new SimpleSequentialChain chain...\u001b[0m\n",
      "\u001b[36;1m\u001b[1;3m```json\n",
      "{\n",
      "  \"emoções\": [\"constrangimento\", \"medo\", \"insegurança\", \"desconforto\"],\n",
      "  \"justificativa\": \"O texto expressa um sentimento de mal-estar inicial (\\\"E não me sinto bem\\\"), que pode ser classificado como desconforto. A frase \\\"a mentira em que nos acomodamos acabou de ser levemente locomovida do lugar onde se acomodara\\\" indica constrangimento pela revelação ou possibilidade de revelação de uma verdade escondida. A insegurança e o medo são evidentes na imaginação de uma mudança radical na vida (\\\"se eu fosse realmente eu, os amigos não me cumprimentariam na rua porque até minha fisionomia teria mudado\\\"),  sugerindo o receio de rejeição e da consequência de ser autêntico. A incerteza sobre como essa mudança se manifestaria (\\\"Como? Não sei\\\") reforça a sensação de desconforto e insegurança.\"\n",
      "}\n",
      "```\u001b[0m\n",
      "\u001b[33;1m\u001b[1;3mNa lista estão presentes 100% de emoções negativas.  Todas as emoções listadas (constrangimento, medo, insegurança, desconforto) são consideradas sentimentos negativos.\u001b[0m\n",
      "\n",
      "\u001b[1m> Finished chain.\u001b[0m\n"
     ]
    }
   ],
   "source": [
    "from langchain_core.pydantic_v1 import Field, BaseModel\n",
    "from langchain_core.output_parsers import JsonOutputParser\n",
    "from langchain_core.prompts import PromptTemplate\n",
    "\n",
    "## criação da classe pro parser\n",
    "class AnaliseEmocional(BaseModel):\n",
    "    emoções: list[str] = Field(description=\"Emoções identificadas no texto\")\n",
    "    justificativa: str = Field(description=\"Justificativa para as emoções identificadas\")\n",
    "\n",
    "## definição do parser\n",
    "parser = JsonOutputParser(pydantic_object=AnaliseEmocional)\n",
    "\n",
    "## modelos prompts com o parser\n",
    "modelo_emocoes = PromptTemplate(\n",
    "    template =\"\"\"Identifique as emoções presentes na seguinte texto conforme a teoria da roda das emoções.\n",
    "    Texto: {texto}\n",
    "    {formatacao_de_saida}\n",
    "    \"\"\",\n",
    "    input_variables=[\"texto\"],\n",
    "    partial_variables={\"formatacao_de_saida\": parser.get_format_instructions()}\n",
    ") \n",
    "\n",
    "\n",
    "classificacao_sentimentos = ChatPromptTemplate.from_template(\n",
    "    \"Classifique a potcentagem dos sentimentos(positivo, negativo ou neutro) presentas na lista de emoções. Ex: 'Na lista estão presentes 50% de emoções negativas e 50% de positivas.' Emoções: {emoções}\"\n",
    ")\n",
    "\n",
    "## criação das cadeia, uma a uma \n",
    "\n",
    "cadeia_emocoes = LLMChain(\n",
    "    llm=llm,\n",
    "    prompt=modelo_emocoes\n",
    ")\n",
    "\n",
    "cadeia_classificacao_sentimentos = LLMChain(\n",
    "    llm=llm,\n",
    "    prompt=classificacao_sentimentos\n",
    ")\n",
    "\n",
    "cadeia = SimpleSequentialChain(\n",
    "    chains= [cadeia_emocoes, cadeia_classificacao_sentimentos],\n",
    "    verbose=True\n",
    ")\n",
    "\n",
    "\n",
    "# criação de uma sequência de cadeias -  simple sequential chain\n",
    "# usa a saída de uma cadeia como entrada da próxima\n",
    "# a saída da cadeia_emocoes é a entrada da cadeia_distorcoes, e assim por diante\n",
    "\n",
    "cadeia = SimpleSequentialChain(\n",
    "    chains= [cadeia_emocoes, cadeia_classificacao_sentimentos],\n",
    "    verbose=True\n",
    ")\n",
    "\n",
    "# execução da cadeia\n",
    "texto = \"\"\"E não me sinto bem. Experimente: se você fosse você, como seria e o que faria? \n",
    "Logo de início se sente um constrangimento: a mentira em que nos acomodamos acabou de ser \n",
    "levemente locomovida do lugar onde se acomodara. No entanto já li biografias de pessoas que \n",
    "de repente passavam a ser elas mesmas, e mudavam inteiramente de vida. Acho que se eu fosse \n",
    "realmente eu, os amigos não me cumprimentariam na rua porque até minha fisionomia teria mudado. Como? Não sei.\"\"\"\n",
    "\n",
    "resultado = cadeia.invoke(texto)"
   ]
  }
 ],
 "metadata": {
  "kernelspec": {
   "display_name": "langchain",
   "language": "python",
   "name": "python3"
  },
  "language_info": {
   "codemirror_mode": {
    "name": "ipython",
    "version": 3
   },
   "file_extension": ".py",
   "mimetype": "text/x-python",
   "name": "python",
   "nbconvert_exporter": "python",
   "pygments_lexer": "ipython3",
   "version": "3.11.1"
  }
 },
 "nbformat": 4,
 "nbformat_minor": 5
}
