{
 "cells": [
  {
   "cell_type": "markdown",
   "id": "0ae4577e",
   "metadata": {},
   "source": [
    "## Exercício LangChain e Gemini - ALURA\n",
    "\n",
    "- Exercício proposto pro curso de langChain e python - ALURA - Cração dde cadeia simples: \n",
    "- Emoções (Roda das Emoções de Plutchik)\n",
    "- Distorções cognitivas\n",
    "- Cartões de enfrentamento\n",
    "\n",
    "- No exercício envolvi assuntos de interesse pessoal e tive por objetivo usar o conceito de Simple Sequencial Chain para analisar o conteúdo emocional e distorções cognitivas de um trecho da crônica \"Se eu fosse eu\" de Clarice Lispector e a partir da análise propor cartões de enfrentamento para pensamentos disfuncionais.   "
   ]
  },
  {
   "cell_type": "markdown",
   "id": "c1c1f9f7",
   "metadata": {},
   "source": [
    "### Imports"
   ]
  },
  {
   "cell_type": "code",
   "execution_count": 8,
   "id": "1184eb40",
   "metadata": {},
   "outputs": [],
   "source": [
    "import os\n",
    "from dotenv import load_dotenv\n",
    "from langchain_google_genai import ChatGoogleGenerativeAI\n",
    "from langchain.prompts import ChatPromptTemplate\n",
    "from langchain.chains import LLMChain, SimpleSequentialChain"
   ]
  },
  {
   "cell_type": "markdown",
   "id": "84e5e3cf",
   "metadata": {},
   "source": [
    "### Carregamento da Chave API -> Utilização do Gemini "
   ]
  },
  {
   "cell_type": "code",
   "execution_count": 2,
   "id": "9652ee08",
   "metadata": {},
   "outputs": [],
   "source": [
    "load_dotenv()\n",
    "api_key = os.getenv(\"GEMINI_API_KEY\")"
   ]
  },
  {
   "cell_type": "markdown",
   "id": "b3ae3556",
   "metadata": {},
   "source": [
    "### Instancia da LLM"
   ]
  },
  {
   "cell_type": "code",
   "execution_count": 3,
   "id": "858c2abc",
   "metadata": {},
   "outputs": [],
   "source": [
    "llm = ChatGoogleGenerativeAI(\n",
    "    model=\"gemini-1.5-flash\",\n",
    "    temperature=0.7,\n",
    "    google_api_key=api_key\n",
    ")"
   ]
  },
  {
   "cell_type": "markdown",
   "id": "af835f2e",
   "metadata": {},
   "source": [
    "### Definição dos templates de prompts"
   ]
  },
  {
   "cell_type": "code",
   "execution_count": 4,
   "id": "7d3b749e",
   "metadata": {},
   "outputs": [],
   "source": [
    "modelo_emocoes = ChatPromptTemplate.from_template(\n",
    "    \"Identifique as emoções presentes na seguinte texto conforme a teoria da roda das emoções. texto: {texto}\"\n",
    ")\n",
    "\n",
    "modelo_distorcoes_cognitivas = ChatPromptTemplate.from_template(\n",
    "    \"Identifique as distorções cognitivas a seguinte analise emocional: {emoções}\"\n",
    ")\n",
    "\n",
    "modelo_pensamentos_automaticos = ChatPromptTemplate.from_template(\n",
    "    \"Sugira pensamentos saudáveis de enfrentamento dadas as seguintes distorções cognitivas: {distorções}. Vc deve montar um esquema tipo cartões de enfrentamento, estilo distorção -> pensamento saudável\"\n",
    ")\n"
   ]
  },
  {
   "cell_type": "markdown",
   "id": "e93df6e4",
   "metadata": {},
   "source": [
    "### Criação das Cadeias"
   ]
  },
  {
   "cell_type": "code",
   "execution_count": 5,
   "id": "474051dd",
   "metadata": {},
   "outputs": [
    {
     "name": "stderr",
     "output_type": "stream",
     "text": [
      "C:\\Users\\syann\\AppData\\Local\\Temp\\ipykernel_17856\\1255668256.py:1: LangChainDeprecationWarning: The class `LLMChain` was deprecated in LangChain 0.1.17 and will be removed in 1.0. Use :meth:`~RunnableSequence, e.g., `prompt | llm`` instead.\n",
      "  cadeia_emocoes = LLMChain(\n"
     ]
    }
   ],
   "source": [
    "cadeia_emocoes = LLMChain(\n",
    "    llm=llm,\n",
    "    prompt=modelo_emocoes\n",
    ")\n",
    "cadeia_distorcoes = LLMChain(\n",
    "    llm=llm,\n",
    "    prompt=modelo_distorcoes_cognitivas\n",
    ")\n",
    "\n",
    "cadeia_pensamentos = LLMChain(\n",
    "    llm=llm,\n",
    "    prompt=modelo_pensamentos_automaticos\n",
    ")\n",
    "\n",
    "# criação de uma sequência de cadeias -  simple sequential chain\n",
    "# usa a saída de uma cadeia como entrada da próxima\n",
    "# a saída da cadeia_emocoes é a entrada da cadeia_distorcoes, e assim por diante\n",
    "\n",
    "cadeia = SimpleSequentialChain(\n",
    "    chains=[cadeia_emocoes, cadeia_distorcoes, cadeia_pensamentos],\n",
    "    verbose=True # pra ter detalhes da execução passo a passo no terminal\n",
    ")\n"
   ]
  },
  {
   "cell_type": "markdown",
   "id": "e60f7c71",
   "metadata": {},
   "source": [
    "### Execução da Cadeia "
   ]
  },
  {
   "cell_type": "code",
   "execution_count": 10,
   "id": "d0164311",
   "metadata": {},
   "outputs": [
    {
     "name": "stdout",
     "output_type": "stream",
     "text": [
      "\n",
      "\n",
      "\u001b[1m> Entering new SimpleSequentialChain chain...\u001b[0m\n",
      "\u001b[36;1m\u001b[1;3mO texto expressa principalmente **constrangimento** e **medo**,  ambos presentes na Roda das Emoções de Plutchik. Vamos analisar:\n",
      "\n",
      "* **Constrangimento:**  A frase \"E não me sinto bem\" e a descrição da \"mentira em que nos acomodamos\" apontam diretamente para uma sensação de desconforto e vergonha, características do constrangimento. A mentira provavelmente envolve uma incoerência entre a imagem que a pessoa projeta e sua verdadeira identidade.\n",
      "\n",
      "* **Medo:** A  ideia de mudar completamente de vida e a consequência imaginada de não ser mais reconhecido pelos amigos (\"os amigos não me cumprimentariam na rua porque até minha fisionomia teria mudado\") revelam um medo da mudança, do desconhecido e das potenciais consequências negativas de ser autêntico.  A incerteza (\"Como? Não sei\") reforça esse medo.\n",
      "\n",
      "Embora não seja explicitamente mencionado, podemos inferir a presença de **tristeza** subjacente ao constrangimento e medo. A insatisfação expressa em \"E não me sinto bem\" sugere uma sensação de falta ou inadequação que pode ser interpretada como tristeza.\n",
      "\n",
      "A \"experiência\" proposta (\"se você fosse você, como seria e o que faria?\") indica uma busca por autoconhecimento, mas a resposta é marcada pela insegurança e pelo receio, reforçando as emoções de medo e constrangimento.\n",
      "\n",
      "É importante notar que a intensidade de cada emoção é subjetiva e pode variar de acordo com a interpretação.  Mas, baseado na Roda das Emoções, constrangimento e medo são as emoções mais proeminentes no texto.\u001b[0m\n",
      "\u001b[33;1m\u001b[1;3mA análise identifica corretamente as emoções de constrangimento e medo, mas não aponta distorções cognitivas.  A análise descreve *emoções*, não *distorções cognitivas*.  Para identificar distorções cognitivas, precisaríamos de exemplos específicos de pensamentos ou crenças que estão *distorcendo* a realidade e contribuindo para essas emoções.\n",
      "\n",
      "Para exemplificar como se poderia identificar distorções cognitivas neste contexto, vamos supor alguns pensamentos que *poderiam* estar por trás das emoções descritas, e então identificar as distorções:\n",
      "\n",
      "**Possíveis pensamentos e as correspondentes distorções cognitivas:**\n",
      "\n",
      "* **Pensamento:** \"Se eu mudar, meus amigos vão me abandonar.\"  **Distorção:** **Pensamento catastrófico** (expectativa de um resultado negativo extremo e improvável) e **generalização excessiva** (assumindo que todos os amigos reagirão da mesma forma negativa).\n",
      "\n",
      "* **Pensamento:** \"Eu preciso ser aprovado por todos para ser feliz.\" **Distorção:** **Pensamento dicotômico/tudo ou nada** (crença de que só há duas opções extremas, aprovação total ou rejeição total) e **necessidade de aprovação externa.**\n",
      "\n",
      "* **Pensamento:** \"Não consigo imaginar como seria ser eu mesmo, então é melhor continuar como estou.\" **Distorção:** **Leitura de pensamento** (assumindo que sabe o que os outros pensam sem evidências) e **evitação** (evitar a situação para não lidar com a ansiedade, reforçando o medo da mudança).\n",
      "\n",
      "* **Pensamento:** \"Eu sou uma fraude, não mereço ser feliz.\" **Distorção:** **Rotulação** (atribuir um rótulo negativo a si mesmo) e **julgamento de valor** (julgar a si mesmo negativamente).\n",
      "\n",
      "\n",
      "Em resumo, a análise original descreve emoções com precisão. Para identificar distorções cognitivas, é necessário ir além da descrição das emoções e analisar os *pensamentos* subjacentes que estão alimentando essas emoções, identificando os padrões de pensamento errôneos e irracionais.  A análise precisa especificar *quais* são os pensamentos automáticos que levam ao constrangimento e ao medo.  Sem isso, não se podem identificar as distorções cognitivas.\u001b[0m\n",
      "\u001b[38;5;200m\u001b[1;3m## Cartões de Enfrentamento para Distorções Cognitivas:\n",
      "\n",
      "Aqui estão alguns cartões de enfrentamento, seguindo o modelo \"Distorção Cognitiva -> Pensamento Saudável\", baseados nos exemplos fornecidos:\n",
      "\n",
      "\n",
      "**Cartão 1:**\n",
      "\n",
      "* **Distorção Cognitiva:** Pensamento Catastrófico & Generalização Excessiva\n",
      "* **Pensamento Negativo:** \"Se eu mudar, meus amigos vão me abandonar.\"\n",
      "* **Pensamento Saudável:** \"Mudar pode ser desafiador, e algumas pessoas podem ter reações diferentes.  Mas meus amigos que me valorizam vão me apoiar, e aqueles que não o fazem talvez não sejam os amigos certos para mim.  Vou me concentrar em construir relacionamentos genuínos.\"\n",
      "\n",
      "\n",
      "**Cartão 2:**\n",
      "\n",
      "* **Distorção Cognitiva:** Pensamento Dicotômico/Tudo ou Nada & Necessidade de Aprovação Externa\n",
      "* **Pensamento Negativo:** \"Eu preciso ser aprovado por todos para ser feliz.\"\n",
      "* **Pensamento Saudável:** \"A aprovação dos outros é agradável, mas minha felicidade não depende dela.  Eu me valorizo e me aceito como sou, e isso é suficiente.  Vou me esforçar para agradar a mim mesmo, e a aprovação dos outros será um bônus, não uma necessidade.\"\n",
      "\n",
      "\n",
      "**Cartão 3:**\n",
      "\n",
      "* **Distorção Cognitiva:** Leitura de Pensamento & Evitação\n",
      "* **Pensamento Negativo:** \"Não consigo imaginar como seria ser eu mesmo, então é melhor continuar como estou.\"\n",
      "* **Pensamento Saudável:** \"Não posso saber o que os outros pensam com certeza.  Ser eu mesmo pode ser assustador, mas é um risco que vale a pena.  Vou tentar pequenas mudanças gradativamente e observar as reações. A incerteza é parte da vida, e eu consigo lidar com ela.\"\n",
      "\n",
      "\n",
      "**Cartão 4:**\n",
      "\n",
      "* **Distorção Cognitiva:** Rotulação & Julgamento de Valor\n",
      "* **Pensamento Negativo:** \"Eu sou uma fraude, não mereço ser feliz.\"\n",
      "* **Pensamento Saudável:** \"Eu estou passando por um momento difícil, mas isso não define quem eu sou.  Todo mundo tem falhas e momentos de dúvida.  Eu mereço ser feliz, e vou trabalhar para me tornar a melhor versão de mim mesmo, com compaixão e auto-aceitação.\"\n",
      "\n",
      "\n",
      "**Como usar os cartões:**\n",
      "\n",
      "1. **Identifique a emoção:** Quando sentir constrangimento ou medo, identifique a emoção.\n",
      "2. **Identifique o pensamento:** Pergunte a si mesmo: \"Que pensamento está causando essa emoção?\"\n",
      "3. **Identifique a distorção:**  Compare seu pensamento com os exemplos nos cartões.  Qual distorção cognitiva se encaixa melhor?\n",
      "4. **Reframeie o pensamento:** Use o \"Pensamento Saudável\" correspondente no cartão para substituir o pensamento negativo.  Pratique repetidamente até que o pensamento saudável se torne automático.\n",
      "\n",
      "\n",
      "**Observação:** Estes são apenas exemplos.  É importante trabalhar com um terapeuta para identificar suas próprias distorções cognitivas específicas e desenvolver estratégias de enfrentamento personalizadas.\u001b[0m\n",
      "\n",
      "\u001b[1m> Finished chain.\u001b[0m\n",
      "{'input': 'E não me sinto bem. Experimente: se você fosse você, como seria e o que faria? \\nLogo de início se sente um constrangimento: a mentira em que nos acomodamos acabou de ser \\nlevemente locomovida do lugar onde se acomodara. No entanto já li biografias de pessoas que \\nde repente passavam a ser elas mesmas, e mudavam inteiramente de vida. Acho que se eu fosse \\nrealmente eu, os amigos não me cumprimentariam na rua porque até minha fisionomia teria mudado. Como? Não sei.', 'output': '## Cartões de Enfrentamento para Distorções Cognitivas:\\n\\nAqui estão alguns cartões de enfrentamento, seguindo o modelo \"Distorção Cognitiva -> Pensamento Saudável\", baseados nos exemplos fornecidos:\\n\\n\\n**Cartão 1:**\\n\\n* **Distorção Cognitiva:** Pensamento Catastrófico & Generalização Excessiva\\n* **Pensamento Negativo:** \"Se eu mudar, meus amigos vão me abandonar.\"\\n* **Pensamento Saudável:** \"Mudar pode ser desafiador, e algumas pessoas podem ter reações diferentes.  Mas meus amigos que me valorizam vão me apoiar, e aqueles que não o fazem talvez não sejam os amigos certos para mim.  Vou me concentrar em construir relacionamentos genuínos.\"\\n\\n\\n**Cartão 2:**\\n\\n* **Distorção Cognitiva:** Pensamento Dicotômico/Tudo ou Nada & Necessidade de Aprovação Externa\\n* **Pensamento Negativo:** \"Eu preciso ser aprovado por todos para ser feliz.\"\\n* **Pensamento Saudável:** \"A aprovação dos outros é agradável, mas minha felicidade não depende dela.  Eu me valorizo e me aceito como sou, e isso é suficiente.  Vou me esforçar para agradar a mim mesmo, e a aprovação dos outros será um bônus, não uma necessidade.\"\\n\\n\\n**Cartão 3:**\\n\\n* **Distorção Cognitiva:** Leitura de Pensamento & Evitação\\n* **Pensamento Negativo:** \"Não consigo imaginar como seria ser eu mesmo, então é melhor continuar como estou.\"\\n* **Pensamento Saudável:** \"Não posso saber o que os outros pensam com certeza.  Ser eu mesmo pode ser assustador, mas é um risco que vale a pena.  Vou tentar pequenas mudanças gradativamente e observar as reações. A incerteza é parte da vida, e eu consigo lidar com ela.\"\\n\\n\\n**Cartão 4:**\\n\\n* **Distorção Cognitiva:** Rotulação & Julgamento de Valor\\n* **Pensamento Negativo:** \"Eu sou uma fraude, não mereço ser feliz.\"\\n* **Pensamento Saudável:** \"Eu estou passando por um momento difícil, mas isso não define quem eu sou.  Todo mundo tem falhas e momentos de dúvida.  Eu mereço ser feliz, e vou trabalhar para me tornar a melhor versão de mim mesmo, com compaixão e auto-aceitação.\"\\n\\n\\n**Como usar os cartões:**\\n\\n1. **Identifique a emoção:** Quando sentir constrangimento ou medo, identifique a emoção.\\n2. **Identifique o pensamento:** Pergunte a si mesmo: \"Que pensamento está causando essa emoção?\"\\n3. **Identifique a distorção:**  Compare seu pensamento com os exemplos nos cartões.  Qual distorção cognitiva se encaixa melhor?\\n4. **Reframeie o pensamento:** Use o \"Pensamento Saudável\" correspondente no cartão para substituir o pensamento negativo.  Pratique repetidamente até que o pensamento saudável se torne automático.\\n\\n\\n**Observação:** Estes são apenas exemplos.  É importante trabalhar com um terapeuta para identificar suas próprias distorções cognitivas específicas e desenvolver estratégias de enfrentamento personalizadas.'}\n"
     ]
    }
   ],
   "source": [
    "texto = \"\"\"E não me sinto bem. Experimente: se você fosse você, como seria e o que faria? \n",
    "Logo de início se sente um constrangimento: a mentira em que nos acomodamos acabou de ser \n",
    "levemente locomovida do lugar onde se acomodara. No entanto já li biografias de pessoas que \n",
    "de repente passavam a ser elas mesmas, e mudavam inteiramente de vida. Acho que se eu fosse \n",
    "realmente eu, os amigos não me cumprimentariam na rua porque até minha fisionomia teria mudado. Como? Não sei.\"\"\"\n",
    "\n",
    "resultado = cadeia.invoke(texto)\n",
    "print(resultado)\n"
   ]
  },
  {
   "cell_type": "markdown",
   "id": "99e61266",
   "metadata": {},
   "source": [
    "### Utilização de Parser\n",
    "\n",
    "Proposta:\n",
    "- Analisar emoções e retornar uma estrutura com a lista de emoções e a justificativa das emoções\n",
    "- analisar sentimentos relacionados com as emoções detectadas anteriormente\n"
   ]
  },
  {
   "cell_type": "code",
   "execution_count": 11,
   "id": "ae313d0b",
   "metadata": {},
   "outputs": [
    {
     "name": "stdout",
     "output_type": "stream",
     "text": [
      "\n",
      "\n",
      "\u001b[1m> Entering new SimpleSequentialChain chain...\u001b[0m\n",
      "\u001b[36;1m\u001b[1;3m```json\n",
      "{\n",
      "  \"emoções\": [\"constrangimento\", \"medo\", \"insegurança\", \"desconforto\"],\n",
      "  \"justificativa\": \"O texto expressa um desconforto com a própria situação, revelando um sentimento de constrangimento por uma mentira mantida. A frase \\\"E não me sinto bem\\\" indica desconforto. A dúvida sobre como seria se fosse realmente si mesmo, e a consequente especulação de que seus amigos não o reconheceriam (\\\"os amigos não me cumprimentariam na rua porque até minha fisionomia teria mudado\\\"), revela medo e insegurança quanto às mudanças e suas consequências. A incerteza expressa em \\\"Como? Não sei\\\" reforça a insegurança e o desconforto da situação.\"\n",
      "}\n",
      "```\u001b[0m\n",
      "\u001b[33;1m\u001b[1;3mNa lista estão presentes 100% de emoções negativas.  Não há emoções positivas ou neutras presentes.\u001b[0m\n",
      "\n",
      "\u001b[1m> Finished chain.\u001b[0m\n"
     ]
    }
   ],
   "source": [
    "from langchain_core.pydantic_v1 import Field, BaseModel\n",
    "from langchain_core.output_parsers import JsonOutputParser\n",
    "from langchain_core.prompts import PromptTemplate\n",
    "\n",
    "## criação da classe pro parser\n",
    "class AnaliseEmocional(BaseModel):\n",
    "    emoções: list[str] = Field(description=\"Emoções identificadas no texto\")\n",
    "    justificativa: str = Field(description=\"Justificativa para as emoções identificadas\")\n",
    "\n",
    "## definição do parser\n",
    "parser = JsonOutputParser(pydantic_object=AnaliseEmocional)\n",
    "\n",
    "## modelos prompts com o parser\n",
    "modelo_emocoes = PromptTemplate(\n",
    "    template =\"\"\"Identifique as emoções presentes na seguinte texto conforme a teoria da roda das emoções.\n",
    "    Texto: {texto}\n",
    "    {formatacao_de_saida}\n",
    "    \"\"\",\n",
    "    input_variables=[\"texto\"],\n",
    "    partial_variables={\"formatacao_de_saida\": parser.get_format_instructions()}\n",
    ") \n",
    "\n",
    "\n",
    "classificacao_sentimentos = ChatPromptTemplate.from_template(\n",
    "    \"Classifique a potcentagem dos sentimentos(positivo, negativo ou neutro) presentas na lista de emoções. Ex: 'Na lista estão presentes 50% de emoções negativas e 50% de positivas.' Emoções: {emoções}\"\n",
    ")\n",
    "\n",
    "## criação das cadeia, uma a uma \n",
    "\n",
    "cadeia_emocoes = LLMChain(\n",
    "    llm=llm,\n",
    "    prompt=modelo_emocoes\n",
    ")\n",
    "\n",
    "cadeia_classificacao_sentimentos = LLMChain(\n",
    "    llm=llm,\n",
    "    prompt=classificacao_sentimentos\n",
    ")\n",
    "\n",
    "cadeia = SimpleSequentialChain(\n",
    "    chains= [cadeia_emocoes, cadeia_classificacao_sentimentos],\n",
    "    verbose=True\n",
    ")\n",
    "\n",
    "\n",
    "# criação de uma sequência de cadeias -  simple sequential chain\n",
    "# usa a saída de uma cadeia como entrada da próxima\n",
    "# a saída da cadeia_emocoes é a entrada da cadeia_distorcoes, e assim por diante\n",
    "\n",
    "cadeia = SimpleSequentialChain(\n",
    "    chains= [cadeia_emocoes, cadeia_classificacao_sentimentos],\n",
    "    verbose=True\n",
    ")\n",
    "\n",
    "# execução da cadeia\n",
    "texto = \"\"\"E não me sinto bem. Experimente: se você fosse você, como seria e o que faria? \n",
    "Logo de início se sente um constrangimento: a mentira em que nos acomodamos acabou de ser \n",
    "levemente locomovida do lugar onde se acomodara. No entanto já li biografias de pessoas que \n",
    "de repente passavam a ser elas mesmas, e mudavam inteiramente de vida. Acho que se eu fosse \n",
    "realmente eu, os amigos não me cumprimentariam na rua porque até minha fisionomia teria mudado. Como? Não sei.\"\"\"\n",
    "\n",
    "resultado = cadeia.invoke(texto)"
   ]
  }
 ],
 "metadata": {
  "kernelspec": {
   "display_name": "langchain",
   "language": "python",
   "name": "python3"
  },
  "language_info": {
   "codemirror_mode": {
    "name": "ipython",
    "version": 3
   },
   "file_extension": ".py",
   "mimetype": "text/x-python",
   "name": "python",
   "nbconvert_exporter": "python",
   "pygments_lexer": "ipython3",
   "version": "3.11.1"
  }
 },
 "nbformat": 4,
 "nbformat_minor": 5
}
